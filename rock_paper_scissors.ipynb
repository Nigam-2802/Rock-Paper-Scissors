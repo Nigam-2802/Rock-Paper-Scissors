{
 "cells": [
  {
   "cell_type": "code",
   "execution_count": null,
   "id": "5a59d445-f21a-4fca-bcb4-80ad90983a17",
   "metadata": {},
   "outputs": [],
   "source": [
    "import random\n",
    "computer_wins=0\n",
    "user_wins=0\n",
    "options= [\"rock\",\"paper\",\"scissors\"]\n",
    "while True:\n",
    "    user_input=input(\"Type rock/paper/scissors or q to quit: \").lower()\n",
    "    if user_input ==\"q\":\n",
    "        break\n",
    "    if user_input not in options:\n",
    "        continue\n",
    "\n",
    "    random_number = random.randint(0, 2)\n",
    "    # rock: 0, paper: 1, scissors: 2\n",
    "    computer_pick = options[random_number]\n",
    "    print(\"Computer picked\", computer_pick + \".\")\n",
    "\n",
    "    if user_input==\"rock\" and computer_pick==\"scissors\":\n",
    "        print(\"you won\")\n",
    "        user_wins+=1\n",
    "    \n",
    "\n",
    "    elif user_input==\"Paper\" and computer_pick==\"rock\":\n",
    "        print(\"you won\")\n",
    "        user_wins+=1\n",
    "    \n",
    "\n",
    "    elif user_input==\"scissors\" and computer_pick==\"paper\":\n",
    "        print(\"you won\")\n",
    "        user_wins+=1\n",
    "\n",
    "    elif user_input== computer_pick:\n",
    "        print(\"its a tie. No points rewarded\")\n",
    "        \n",
    "    \n",
    "\n",
    "    else:\n",
    "        print(\"computer won\")\n",
    "        \n",
    "        computer_wins+=1\n",
    "\n",
    "print(\"you won\", user_wins, \"times.\")\n",
    "print(\"computer won\", computer_wins, \"times.\")\n",
    "print (\"Goodbye\")"
   ]
  },
  {
   "cell_type": "code",
   "execution_count": null,
   "id": "45b6559d-c49e-4361-8999-0c2017d51e36",
   "metadata": {},
   "outputs": [],
   "source": []
  }
 ],
 "metadata": {
  "kernelspec": {
   "display_name": "Python 3 (ipykernel)",
   "language": "python",
   "name": "python3"
  },
  "language_info": {
   "codemirror_mode": {
    "name": "ipython",
    "version": 3
   },
   "file_extension": ".py",
   "mimetype": "text/x-python",
   "name": "python",
   "nbconvert_exporter": "python",
   "pygments_lexer": "ipython3",
   "version": "3.12.4"
  }
 },
 "nbformat": 4,
 "nbformat_minor": 5
}
